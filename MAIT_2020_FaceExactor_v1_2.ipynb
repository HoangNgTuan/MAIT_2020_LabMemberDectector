{
  "nbformat": 4,
  "nbformat_minor": 0,
  "metadata": {
    "colab": {
      "name": "MAIT_2020_FaceExactor_v1.2.ipynb",
      "provenance": [],
      "collapsed_sections": [],
      "mount_file_id": "11l93bFOltCuS84mRPrhPC5nIlPrHXewF",
      "authorship_tag": "ABX9TyMUm7v5sc0MzXf+SANVkAIS",
      "include_colab_link": true
    },
    "kernelspec": {
      "name": "python3",
      "display_name": "Python 3"
    },
    "accelerator": "GPU"
  },
  "cells": [
    {
      "cell_type": "markdown",
      "metadata": {
        "id": "view-in-github",
        "colab_type": "text"
      },
      "source": [
        "<a href=\"https://colab.research.google.com/github/lamtranBKHN/MAIT_2020_LabMemberDectector/blob/origin/MAIT_2020_FaceExactor_v1_2.ipynb\" target=\"_parent\"><img src=\"https://colab.research.google.com/assets/colab-badge.svg\" alt=\"Open In Colab\"/></a>"
      ]
    },
    {
      "cell_type": "code",
      "metadata": {
        "colab": {
          "base_uri": "https://localhost:8080/"
        },
        "id": "6Y30_ob6Btz-",
        "outputId": "cf883d7e-5e3b-4029-ccea-53c34ce8138a"
      },
      "source": [
        "import os\r\n",
        "\r\n",
        "from os import listdir\r\n",
        "from os.path import isfile, join\r\n",
        "import cv2\r\n",
        "import numpy\r\n",
        "\r\n",
        "IM_SIZE = 500\r\n",
        "face_cascade = cv2.CascadeClassifier('/content/drive/Shareddrives/Lâm_Trần/MAIT2020/temp/haarcascade_frontalface_alt.xml')\r\n",
        "\r\n",
        "# Folder stores all face-data\r\n",
        "parent_dir = '/content/drive/Shareddrives/Lâm_Trần/MAIT2020/Lab_Face_data'\r\n",
        "# Folder you want to save face data\r\n",
        "store_dir = '/content/drive/Shareddrives/Lâm_Trần/MAIT2020/Lab_Face_data_Exacted/scaleFactor=1.1_minNeighbors=6'\r\n",
        "# Create store directory if not exist\r\n",
        "if not os.path.exists(store_dir):\r\n",
        "    os.makedirs(store_dir)\r\n",
        "\r\n",
        "# extract a single face from a given photograph\r\n",
        "def extract_face(imgPath, storePath):\r\n",
        "    mypath = imgPath\r\n",
        "    onlyfiles = [f for f in listdir(mypath) if isfile(join(mypath, f))]\r\n",
        "    images = numpy.empty(len(onlyfiles), dtype=object)\r\n",
        "    for n in range(0, len(onlyfiles)):\r\n",
        "        images[n] = cv2.imread(join(mypath, onlyfiles[n]), 1)\r\n",
        "        gray = cv2.cvtColor(images[n], cv2.COLOR_BGR2GRAY)\r\n",
        "        faces = face_cascade.detectMultiScale(gray, \r\n",
        "                                 scaleFactor=1.1, \r\n",
        "                                 minNeighbors=6, \r\n",
        "                                 minSize=(30, 30),\r\n",
        "                                 flags=cv2.CASCADE_SCALE_IMAGE)\r\n",
        "        for (x, y, w, h) in faces:\r\n",
        "            if y > h//3:\r\n",
        "                y_new = y - h//3\r\n",
        "            else:\r\n",
        "                y_new = y\r\n",
        "            if x > w//3:\r\n",
        "                x_new = x - w//3\r\n",
        "            else:\r\n",
        "                x_new = x\r\n",
        "            new = images[n][y_new:(y + h + h // 3), x_new:(x + w + w // 3)]\r\n",
        "            new = cv2.resize(new, (IM_SIZE, IM_SIZE))\r\n",
        "            cv2.imwrite(os.path.join(storePath , \"image%04i.jpg\" % n), new)\r\n",
        "\r\n",
        "\r\n",
        "for fname in os.listdir(parent_dir):\r\n",
        "  print(\"Processing \" + fname + \" ... \")\r\n",
        "  personal_img_path = os.path.join(parent_dir, fname) \r\n",
        "  store_path = os.path.join(store_dir, fname) \r\n",
        "  # Create store directory if not exist\r\n",
        "  if not os.path.exists(store_path):\r\n",
        "      os.makedirs(store_path)\r\n",
        "  extract_face(personal_img_path, store_path)"
      ],
      "execution_count": 1,
      "outputs": [
        {
          "output_type": "stream",
          "text": [
            "Processing Bui_Quang_Duy ... \n",
            "Processing Thanh_Quang ... \n",
            "Processing Nguyen_Ba_Hoang ... \n",
            "Processing Nguyen_Thi_Huong ... \n",
            "Processing Tran_Minh_Thuyet ... \n",
            "Processing Tran_Thi_Thanh_Nhan ... \n",
            "Processing HDTuan_192259 (1) ... \n",
            "Processing PGPhong_181691 ... \n",
            "Processing Phuong_Anh ... \n",
            "Processing Toan ... \n",
            "Processing CQDat_181383 ... \n",
            "Processing DADung_181421 ... \n",
            "Processing DLTMy_200426 ... \n",
            "Processing DPDuong_181432 ... \n",
            "Processing HDTuan_192259 ... \n",
            "Processing KTAnh_176917 ... \n",
            "Processing LDTAnh_181320 ... \n",
            "Processing LTHien_173846 ... \n",
            "Processing NBHoang_181486 ... \n",
            "Processing NDHuy_161823 ... \n",
            "Processing NDQuan_192034 ... \n",
            "Processing NDToan_174273 ... \n",
            "Processing NNHoang_181492 ... \n",
            "Processing NQAnh_181325 ... \n",
            "Processing NQThai_192002 ... \n",
            "Processing NTCong_179626 ... \n",
            "Processing NTHai_173821 ... \n",
            "Processing NTHLy_181637 ... \n",
            "Processing NTTung_181828 ... \n",
            "Processing NVLinh_181579 (1) ... \n",
            "Processing NVMinh_174064 ... \n",
            "Processing TDPhu_181692 (1) ... \n",
            "Processing THGiang_192200 ... \n",
            "Processing THHoang_181888 ... \n",
            "Processing TQMinh_181659 ... \n",
            "Processing TVSon_181920 ... \n",
            "Processing TVThai_181749 ... \n",
            "Processing VCThinh_174239 ... \n",
            "Processing NVLinh_181579 ... \n",
            "Processing TDPhu_181692 ... \n",
            "Processing TVThai_181759 ... \n",
            "Processing VVHung_192210 ... \n"
          ],
          "name": "stdout"
        }
      ]
    }
  ]
}