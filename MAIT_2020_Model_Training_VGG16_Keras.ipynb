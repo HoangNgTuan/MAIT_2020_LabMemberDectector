{
  "nbformat": 4,
  "nbformat_minor": 0,
  "metadata": {
    "colab": {
      "name": "MAIT_2020_Model_Training_VGG16_Keras.ipynb",
      "provenance": [],
      "collapsed_sections": [],
      "mount_file_id": "1NSr7OxZm6CzVe73hAAhIDyl3l3C-U-RU",
      "authorship_tag": "ABX9TyMQX9caJ721xkzGS+p5cPCb",
      "include_colab_link": true
    },
    "kernelspec": {
      "name": "python3",
      "display_name": "Python 3"
    },
    "accelerator": "GPU"
  },
  "cells": [
    {
      "cell_type": "markdown",
      "metadata": {
        "id": "view-in-github",
        "colab_type": "text"
      },
      "source": [
        "<a href=\"https://colab.research.google.com/github/lamtranBKHN/MAIT_2020_LabMemberDectector/blob/origin/MAIT_2020_Model_Training_VGG16_Keras.ipynb\" target=\"_parent\"><img src=\"https://colab.research.google.com/assets/colab-badge.svg\" alt=\"Open In Colab\"/></a>"
      ]
    },
    {
      "cell_type": "code",
      "metadata": {
        "id": "Rcc55JuWSolP"
      },
      "source": [
        "import tensorflow as tf\r\n",
        "from tensorflow import keras\r\n",
        "from tensorflow.keras import layers\r\n",
        "import os\r\n",
        "from keras.applications import VGG16\r\n",
        "from keras.applications import imagenet_utils\r\n",
        "from keras.preprocessing.image import img_to_array\r\n",
        "from keras.preprocessing.image import load_img\r\n",
        "from keras.optimizers import SGD\r\n",
        "from keras.optimizers import RMSprop\r\n",
        "from keras.applications import VGG16\r\n",
        "from keras.layers import Input\r\n",
        "from keras.models import Model\r\n",
        "from keras.models import Sequential\r\n",
        "from keras.layers.core import Dense\r\n",
        "from keras.layers.core import Dropout\r\n",
        "from keras.layers.core import Flatten\r\n",
        "\r\n",
        "IMG_SIZE = 128"
      ],
      "execution_count": 1,
      "outputs": []
    },
    {
      "cell_type": "code",
      "metadata": {
        "colab": {
          "base_uri": "https://localhost:8080/"
        },
        "id": "Hfu2SV5oUAUx",
        "outputId": "19be86cf-c05f-4543-b0cf-e13a658e4d98"
      },
      "source": [
        "\r\n",
        "data_dir = '/content/drive/MyDrive/Sample_data_31.12_augmentated'\r\n",
        "print(os.listdir(data_dir))\r\n",
        "labelNum = (len(os.listdir(data_dir)))"
      ],
      "execution_count": 2,
      "outputs": [
        {
          "output_type": "stream",
          "text": [
            "['THHoang_181888', 'THGiang_192200', 'Thanh_Quang', 'TDPhu_181692', 'Phuong_Anh', 'PGPhong_181691', 'NVMinh_174064', 'NVLinh_181579', 'NTTung_181828', 'NTHLy_181637', 'NTHai_173821', 'NTCong_179626', 'NQThai_192002', 'NQAnh_181325', 'NNHoang_181492', 'Nguyen_Thi_Huong', 'Nguyen_Ba_Hoang', 'NDToan_174273', 'NDQuan_192034', 'NDHuy_161823', 'NBHoang_181486', 'LTHien_173846', 'LDTAnh_181320', 'KTAnh_176917', 'HDTuan_192259', 'DPDuong_181432', 'DLTMy_200426', 'DADung_181421', 'CQDat_181383', 'Bui_Quang_Duy', 'VVHung_192210', 'VCThinh_174239', 'TVThai_181749', 'TVSon_181920', 'Tran_Thi_Thanh_Nhan', 'Tran_Minh_Thuyet', 'TQMinh_181659', 'Toan']\n"
          ],
          "name": "stdout"
        }
      ]
    },
    {
      "cell_type": "code",
      "metadata": {
        "id": "0ZXTgV8XU2G_"
      },
      "source": [
        "\r\n",
        "# num_skipped = 0\r\n",
        "\r\n",
        "# for fname in os.listdir(data_dir):\r\n",
        "#   print(\"Processing \" + fname + \" ... \")\r\n",
        "#   personal_img_path = os.path.join(data_dir, fname) \r\n",
        "#   for fname in os.listdir(personal_img_path):\r\n",
        "#     fpath = os.path.join(personal_img_path, fname)\r\n",
        "#     try:\r\n",
        "#         fobj = open(fpath, \"rb\")\r\n",
        "#         is_jfif = tf.compat.as_bytes(\"JFIF\") in fobj.peek(10)\r\n",
        "#     finally:\r\n",
        "#         fobj.close()\r\n",
        "\r\n",
        "#     if not is_jfif:\r\n",
        "#         num_skipped += 1\r\n",
        "#         # Delete corrupted image\r\n",
        "#         os.remove(fpath)\r\n",
        "\r\n",
        "# print(\"Deleted %d images\" % num_skipped)"
      ],
      "execution_count": 3,
      "outputs": []
    },
    {
      "cell_type": "code",
      "metadata": {
        "colab": {
          "base_uri": "https://localhost:8080/"
        },
        "id": "8R8Zh_H2U6Lg",
        "outputId": "fcefad43-dbee-4940-8590-78848d9c0a7f"
      },
      "source": [
        "image_size = (IMG_SIZE, IMG_SIZE)\r\n",
        "batch_size = 32\r\n",
        "\r\n",
        "train_ds = tf.keras.preprocessing.image_dataset_from_directory(\r\n",
        "    data_dir,\r\n",
        "    validation_split=0.2,\r\n",
        "    subset=\"training\",\r\n",
        "    seed=1337,\r\n",
        "    image_size=image_size,\r\n",
        "    batch_size=batch_size,\r\n",
        ")\r\n",
        "val_ds = tf.keras.preprocessing.image_dataset_from_directory(\r\n",
        "    data_dir,\r\n",
        "    validation_split=0.2,\r\n",
        "    subset=\"validation\",\r\n",
        "    seed=1337,\r\n",
        "    image_size=image_size,\r\n",
        "    batch_size=batch_size,\r\n",
        ")"
      ],
      "execution_count": 4,
      "outputs": [
        {
          "output_type": "stream",
          "text": [
            "Found 4356 files belonging to 38 classes.\n",
            "Using 3485 files for training.\n",
            "Found 4356 files belonging to 38 classes.\n",
            "Using 871 files for validation.\n"
          ],
          "name": "stdout"
        }
      ]
    },
    {
      "cell_type": "code",
      "metadata": {
        "id": "hwhxdNBtVAyg"
      },
      "source": [
        "data_augmentation = keras.Sequential(\r\n",
        "    [\r\n",
        "        layers.experimental.preprocessing.RandomFlip(\"horizontal\"),\r\n",
        "        layers.experimental.preprocessing.RandomRotation(0.1),\r\n",
        "        layers.experimental.preprocessing.RandomContrast(0.1),\r\n",
        "        layers.experimental.preprocessing.RandomZoom(0.1, 0.1),\r\n",
        "    ]\r\n",
        ")"
      ],
      "execution_count": 5,
      "outputs": []
    },
    {
      "cell_type": "code",
      "metadata": {
        "id": "JbkhA3zTVPho"
      },
      "source": [
        "#from keras.utils import to_categorical\r\n",
        "#y = to_categorical(y)\r\n",
        "# Load model VGG 16 của ImageNet dataset, include_top=False để bỏ phần Fully connected lay\r\n",
        "baseModel = VGG16(weights='imagenet', include_top=False, \\\r\n",
        "                  input_tensor=Input(shape=(IMG_SIZE, IMG_SIZE, 3)))\r\n",
        "# Buil layer\r\n",
        "fcHead = baseModel.output\r\n",
        "# Flatten \r\n",
        "fcHead = Flatten()(fcHead)\r\n",
        "# Add FC\r\n",
        "fcHead = Dense(1000, activation='relu')(fcHead)\r\n",
        "fcHead = Dropout(0.5)(fcHead)\r\n",
        "# Output layer with softmax activation\r\n",
        "fcHead = Dense(labelNum, activation='softmax')(fcHead)\r\n",
        "# modle\r\n",
        "model = model = Model(inputs=baseModel.input, outputs=fcHead)\r\n",
        "keras.utils.plot_model(model, show_shapes=True)"
      ],
      "execution_count": null,
      "outputs": []
    },
    {
      "cell_type": "code",
      "metadata": {
        "colab": {
          "base_uri": "https://localhost:8080/"
        },
        "id": "PjAQ105sV81G",
        "outputId": "d92f1621-d7f2-4440-cd79-aeed7c3cb72e"
      },
      "source": [
        "epochs = 100\r\n",
        "\r\n",
        "callbacks = [\r\n",
        "    keras.callbacks.ModelCheckpoint(\"save_at_{epoch}.h5\"),\r\n",
        "]\r\n",
        "# model.compile(\r\n",
        "#     optimizer=keras.optimizers.Adam(1e-3),\r\n",
        "#     loss=\"binary_crossentropy\",\r\n",
        "#     metrics=[\"accuracy\"],\r\n",
        "# )\r\n",
        "model.compile(loss = \"sparse_categorical_crossentropy\", \r\n",
        "                    optimizer = SGD(lr=1e-5, momentum=0.9), \r\n",
        "                    metrics=[\"accuracy\"])\r\n",
        "model.fit(\r\n",
        "    train_ds, epochs=epochs, callbacks=callbacks, validation_data=val_ds,\r\n",
        ")"
      ],
      "execution_count": 9,
      "outputs": [
        {
          "output_type": "stream",
          "text": [
            "Epoch 1/100\n",
            "109/109 [==============================] - 26s 232ms/step - loss: 3.5652 - accuracy: 0.0641 - val_loss: 3.5005 - val_accuracy: 0.1228\n",
            "Epoch 2/100\n",
            "109/109 [==============================] - 26s 238ms/step - loss: 3.5369 - accuracy: 0.0691 - val_loss: 3.4457 - val_accuracy: 0.1447\n",
            "Epoch 3/100\n",
            "109/109 [==============================] - 26s 238ms/step - loss: 3.4899 - accuracy: 0.0860 - val_loss: 3.3681 - val_accuracy: 0.1366\n",
            "Epoch 4/100\n",
            "109/109 [==============================] - 27s 240ms/step - loss: 3.4464 - accuracy: 0.0984 - val_loss: 3.3213 - val_accuracy: 0.1619\n",
            "Epoch 5/100\n",
            "109/109 [==============================] - 27s 242ms/step - loss: 3.3777 - accuracy: 0.1126 - val_loss: 3.2391 - val_accuracy: 0.1630\n",
            "Epoch 6/100\n",
            "109/109 [==============================] - 27s 242ms/step - loss: 3.2856 - accuracy: 0.1329 - val_loss: 3.1500 - val_accuracy: 0.1699\n",
            "Epoch 7/100\n",
            "109/109 [==============================] - 27s 244ms/step - loss: 3.2700 - accuracy: 0.1367 - val_loss: 3.1017 - val_accuracy: 0.1906\n",
            "Epoch 8/100\n",
            "109/109 [==============================] - 27s 244ms/step - loss: 3.1640 - accuracy: 0.1578 - val_loss: 2.9870 - val_accuracy: 0.2193\n",
            "Epoch 9/100\n",
            "109/109 [==============================] - 27s 244ms/step - loss: 3.0866 - accuracy: 0.1755 - val_loss: 2.9146 - val_accuracy: 0.2434\n",
            "Epoch 10/100\n",
            "109/109 [==============================] - 27s 246ms/step - loss: 3.0422 - accuracy: 0.1887 - val_loss: 2.8170 - val_accuracy: 0.2687\n",
            "Epoch 11/100\n",
            "109/109 [==============================] - 27s 244ms/step - loss: 2.9434 - accuracy: 0.2209 - val_loss: 2.7098 - val_accuracy: 0.2824\n",
            "Epoch 12/100\n",
            "109/109 [==============================] - 27s 244ms/step - loss: 2.8258 - accuracy: 0.2410 - val_loss: 2.5802 - val_accuracy: 0.3421\n",
            "Epoch 13/100\n",
            "109/109 [==============================] - 27s 244ms/step - loss: 2.7047 - accuracy: 0.2720 - val_loss: 2.4398 - val_accuracy: 0.3605\n",
            "Epoch 14/100\n",
            "109/109 [==============================] - 27s 245ms/step - loss: 2.6151 - accuracy: 0.2848 - val_loss: 2.2934 - val_accuracy: 0.3904\n",
            "Epoch 15/100\n",
            "109/109 [==============================] - 27s 245ms/step - loss: 2.4915 - accuracy: 0.3266 - val_loss: 2.1974 - val_accuracy: 0.4432\n",
            "Epoch 16/100\n",
            "109/109 [==============================] - 27s 240ms/step - loss: 2.3890 - accuracy: 0.3377 - val_loss: 2.0305 - val_accuracy: 0.4856\n",
            "Epoch 17/100\n",
            "109/109 [==============================] - 27s 243ms/step - loss: 2.2762 - accuracy: 0.3822 - val_loss: 1.8937 - val_accuracy: 0.5063\n",
            "Epoch 18/100\n",
            "109/109 [==============================] - 27s 246ms/step - loss: 2.1253 - accuracy: 0.4156 - val_loss: 1.7617 - val_accuracy: 0.5545\n",
            "Epoch 19/100\n",
            "109/109 [==============================] - 27s 243ms/step - loss: 1.9911 - accuracy: 0.4593 - val_loss: 1.6539 - val_accuracy: 0.5706\n",
            "Epoch 20/100\n",
            "109/109 [==============================] - 27s 241ms/step - loss: 1.8944 - accuracy: 0.4580 - val_loss: 1.5216 - val_accuracy: 0.5924\n",
            "Epoch 21/100\n",
            "109/109 [==============================] - 27s 242ms/step - loss: 1.7653 - accuracy: 0.5009 - val_loss: 1.3706 - val_accuracy: 0.6361\n",
            "Epoch 22/100\n",
            "109/109 [==============================] - 27s 245ms/step - loss: 1.5961 - accuracy: 0.5450 - val_loss: 1.2691 - val_accuracy: 0.6751\n",
            "Epoch 23/100\n",
            "109/109 [==============================] - 27s 246ms/step - loss: 1.5382 - accuracy: 0.5672 - val_loss: 1.1426 - val_accuracy: 0.6900\n",
            "Epoch 24/100\n",
            "109/109 [==============================] - 27s 245ms/step - loss: 1.3994 - accuracy: 0.5987 - val_loss: 1.0831 - val_accuracy: 0.7290\n",
            "Epoch 25/100\n",
            "109/109 [==============================] - 27s 246ms/step - loss: 1.2695 - accuracy: 0.6490 - val_loss: 0.9525 - val_accuracy: 0.7566\n",
            "Epoch 26/100\n",
            "109/109 [==============================] - 27s 245ms/step - loss: 1.1677 - accuracy: 0.6673 - val_loss: 0.8989 - val_accuracy: 0.7819\n",
            "Epoch 27/100\n",
            "109/109 [==============================] - 27s 246ms/step - loss: 1.0648 - accuracy: 0.6890 - val_loss: 0.8262 - val_accuracy: 0.7761\n",
            "Epoch 28/100\n",
            "109/109 [==============================] - 27s 245ms/step - loss: 0.9834 - accuracy: 0.7142 - val_loss: 0.7136 - val_accuracy: 0.8060\n",
            "Epoch 29/100\n",
            "109/109 [==============================] - 27s 244ms/step - loss: 0.9062 - accuracy: 0.7297 - val_loss: 0.6419 - val_accuracy: 0.8381\n",
            "Epoch 30/100\n",
            "109/109 [==============================] - 27s 246ms/step - loss: 0.8100 - accuracy: 0.7719 - val_loss: 0.6515 - val_accuracy: 0.8381\n",
            "Epoch 31/100\n",
            "109/109 [==============================] - 27s 247ms/step - loss: 0.7373 - accuracy: 0.7851 - val_loss: 0.5873 - val_accuracy: 0.8507\n",
            "Epoch 32/100\n",
            "109/109 [==============================] - 27s 245ms/step - loss: 0.7100 - accuracy: 0.7865 - val_loss: 0.5287 - val_accuracy: 0.8588\n",
            "Epoch 33/100\n",
            "109/109 [==============================] - 27s 247ms/step - loss: 0.6132 - accuracy: 0.8063 - val_loss: 0.5177 - val_accuracy: 0.8691\n",
            "Epoch 34/100\n",
            "109/109 [==============================] - 28s 248ms/step - loss: 0.5414 - accuracy: 0.8276 - val_loss: 0.4592 - val_accuracy: 0.8829\n",
            "Epoch 35/100\n",
            "109/109 [==============================] - 27s 247ms/step - loss: 0.5054 - accuracy: 0.8499 - val_loss: 0.4276 - val_accuracy: 0.8875\n",
            "Epoch 36/100\n",
            "109/109 [==============================] - 27s 246ms/step - loss: 0.4763 - accuracy: 0.8509 - val_loss: 0.4146 - val_accuracy: 0.8932\n",
            "Epoch 37/100\n",
            "109/109 [==============================] - 27s 244ms/step - loss: 0.4348 - accuracy: 0.8654 - val_loss: 0.4063 - val_accuracy: 0.8886\n",
            "Epoch 38/100\n",
            "109/109 [==============================] - 27s 242ms/step - loss: 0.4136 - accuracy: 0.8715 - val_loss: 0.3747 - val_accuracy: 0.8978\n",
            "Epoch 39/100\n",
            "109/109 [==============================] - 27s 246ms/step - loss: 0.3809 - accuracy: 0.8747 - val_loss: 0.3555 - val_accuracy: 0.9013\n",
            "Epoch 40/100\n",
            "109/109 [==============================] - 27s 245ms/step - loss: 0.3512 - accuracy: 0.8929 - val_loss: 0.3245 - val_accuracy: 0.9139\n",
            "Epoch 41/100\n",
            "109/109 [==============================] - 27s 243ms/step - loss: 0.3484 - accuracy: 0.8876 - val_loss: 0.3202 - val_accuracy: 0.9127\n",
            "Epoch 42/100\n",
            "109/109 [==============================] - 27s 243ms/step - loss: 0.3119 - accuracy: 0.9128 - val_loss: 0.2990 - val_accuracy: 0.9173\n",
            "Epoch 43/100\n",
            "109/109 [==============================] - 27s 244ms/step - loss: 0.2791 - accuracy: 0.9136 - val_loss: 0.2758 - val_accuracy: 0.9150\n",
            "Epoch 44/100\n",
            "109/109 [==============================] - 27s 247ms/step - loss: 0.2318 - accuracy: 0.9253 - val_loss: 0.2626 - val_accuracy: 0.9242\n",
            "Epoch 45/100\n",
            "109/109 [==============================] - 27s 245ms/step - loss: 0.2283 - accuracy: 0.9305 - val_loss: 0.2563 - val_accuracy: 0.9242\n",
            "Epoch 46/100\n",
            "109/109 [==============================] - 27s 243ms/step - loss: 0.2518 - accuracy: 0.9250 - val_loss: 0.2356 - val_accuracy: 0.9334\n",
            "Epoch 47/100\n",
            "109/109 [==============================] - 27s 243ms/step - loss: 0.1974 - accuracy: 0.9417 - val_loss: 0.2343 - val_accuracy: 0.9265\n",
            "Epoch 48/100\n",
            "109/109 [==============================] - 27s 244ms/step - loss: 0.1730 - accuracy: 0.9479 - val_loss: 0.2247 - val_accuracy: 0.9346\n",
            "Epoch 49/100\n",
            "109/109 [==============================] - 27s 244ms/step - loss: 0.1635 - accuracy: 0.9462 - val_loss: 0.2041 - val_accuracy: 0.9357\n",
            "Epoch 50/100\n",
            "109/109 [==============================] - 27s 244ms/step - loss: 0.1652 - accuracy: 0.9504 - val_loss: 0.2131 - val_accuracy: 0.9403\n",
            "Epoch 51/100\n",
            "109/109 [==============================] - 27s 244ms/step - loss: 0.1632 - accuracy: 0.9483 - val_loss: 0.2101 - val_accuracy: 0.9311\n",
            "Epoch 52/100\n",
            "109/109 [==============================] - 27s 244ms/step - loss: 0.1608 - accuracy: 0.9457 - val_loss: 0.2163 - val_accuracy: 0.9392\n",
            "Epoch 53/100\n",
            "109/109 [==============================] - 27s 244ms/step - loss: 0.1587 - accuracy: 0.9486 - val_loss: 0.1979 - val_accuracy: 0.9392\n",
            "Epoch 54/100\n",
            "109/109 [==============================] - 27s 244ms/step - loss: 0.1471 - accuracy: 0.9542 - val_loss: 0.1857 - val_accuracy: 0.9369\n",
            "Epoch 55/100\n",
            "109/109 [==============================] - 27s 246ms/step - loss: 0.1287 - accuracy: 0.9570 - val_loss: 0.1988 - val_accuracy: 0.9426\n",
            "Epoch 56/100\n",
            "109/109 [==============================] - 27s 246ms/step - loss: 0.1141 - accuracy: 0.9615 - val_loss: 0.1839 - val_accuracy: 0.9426\n",
            "Epoch 57/100\n",
            "109/109 [==============================] - 27s 244ms/step - loss: 0.1162 - accuracy: 0.9614 - val_loss: 0.1743 - val_accuracy: 0.9460\n",
            "Epoch 58/100\n",
            "109/109 [==============================] - 27s 246ms/step - loss: 0.1236 - accuracy: 0.9647 - val_loss: 0.1975 - val_accuracy: 0.9403\n",
            "Epoch 59/100\n",
            "109/109 [==============================] - 27s 247ms/step - loss: 0.1137 - accuracy: 0.9634 - val_loss: 0.1623 - val_accuracy: 0.9483\n",
            "Epoch 60/100\n",
            "109/109 [==============================] - 27s 246ms/step - loss: 0.1005 - accuracy: 0.9692 - val_loss: 0.1648 - val_accuracy: 0.9403\n",
            "Epoch 61/100\n",
            "109/109 [==============================] - 27s 245ms/step - loss: 0.0934 - accuracy: 0.9721 - val_loss: 0.1767 - val_accuracy: 0.9483\n",
            "Epoch 62/100\n",
            "109/109 [==============================] - 27s 244ms/step - loss: 0.0824 - accuracy: 0.9724 - val_loss: 0.1586 - val_accuracy: 0.9587\n",
            "Epoch 63/100\n",
            "109/109 [==============================] - 27s 244ms/step - loss: 0.0740 - accuracy: 0.9802 - val_loss: 0.1512 - val_accuracy: 0.9495\n",
            "Epoch 64/100\n",
            "109/109 [==============================] - 27s 244ms/step - loss: 0.0885 - accuracy: 0.9720 - val_loss: 0.1512 - val_accuracy: 0.9529\n",
            "Epoch 65/100\n",
            "109/109 [==============================] - 27s 244ms/step - loss: 0.0674 - accuracy: 0.9798 - val_loss: 0.1439 - val_accuracy: 0.9552\n",
            "Epoch 66/100\n",
            "109/109 [==============================] - 27s 245ms/step - loss: 0.0492 - accuracy: 0.9875 - val_loss: 0.1595 - val_accuracy: 0.9472\n",
            "Epoch 67/100\n",
            "109/109 [==============================] - 28s 249ms/step - loss: 0.0772 - accuracy: 0.9733 - val_loss: 0.1481 - val_accuracy: 0.9518\n",
            "Epoch 68/100\n",
            "109/109 [==============================] - 27s 243ms/step - loss: 0.0776 - accuracy: 0.9747 - val_loss: 0.1595 - val_accuracy: 0.9541\n",
            "Epoch 69/100\n",
            "109/109 [==============================] - 27s 239ms/step - loss: 0.0517 - accuracy: 0.9854 - val_loss: 0.1482 - val_accuracy: 0.9518\n",
            "Epoch 70/100\n",
            "109/109 [==============================] - 27s 240ms/step - loss: 0.0573 - accuracy: 0.9849 - val_loss: 0.1351 - val_accuracy: 0.9529\n",
            "Epoch 71/100\n",
            "109/109 [==============================] - 27s 241ms/step - loss: 0.0640 - accuracy: 0.9835 - val_loss: 0.1443 - val_accuracy: 0.9495\n",
            "Epoch 72/100\n",
            "109/109 [==============================] - 27s 241ms/step - loss: 0.0551 - accuracy: 0.9845 - val_loss: 0.1508 - val_accuracy: 0.9483\n",
            "Epoch 73/100\n",
            "109/109 [==============================] - 27s 244ms/step - loss: 0.0500 - accuracy: 0.9842 - val_loss: 0.1491 - val_accuracy: 0.9552\n",
            "Epoch 74/100\n",
            "109/109 [==============================] - 27s 244ms/step - loss: 0.0451 - accuracy: 0.9873 - val_loss: 0.1550 - val_accuracy: 0.9552\n",
            "Epoch 75/100\n",
            "109/109 [==============================] - 27s 244ms/step - loss: 0.0577 - accuracy: 0.9827 - val_loss: 0.1674 - val_accuracy: 0.9552\n",
            "Epoch 76/100\n",
            "109/109 [==============================] - 27s 244ms/step - loss: 0.0526 - accuracy: 0.9855 - val_loss: 0.1359 - val_accuracy: 0.9575\n",
            "Epoch 77/100\n",
            "109/109 [==============================] - 27s 243ms/step - loss: 0.0578 - accuracy: 0.9809 - val_loss: 0.1233 - val_accuracy: 0.9621\n",
            "Epoch 78/100\n",
            "109/109 [==============================] - 27s 247ms/step - loss: 0.0343 - accuracy: 0.9911 - val_loss: 0.1423 - val_accuracy: 0.9575\n",
            "Epoch 79/100\n",
            "109/109 [==============================] - 27s 244ms/step - loss: 0.0417 - accuracy: 0.9856 - val_loss: 0.1419 - val_accuracy: 0.9564\n",
            "Epoch 80/100\n",
            "109/109 [==============================] - 27s 243ms/step - loss: 0.0520 - accuracy: 0.9879 - val_loss: 0.1301 - val_accuracy: 0.9621\n",
            "Epoch 81/100\n",
            "109/109 [==============================] - 27s 243ms/step - loss: 0.0501 - accuracy: 0.9837 - val_loss: 0.1440 - val_accuracy: 0.9552\n",
            "Epoch 82/100\n",
            "109/109 [==============================] - 27s 245ms/step - loss: 0.0403 - accuracy: 0.9891 - val_loss: 0.1446 - val_accuracy: 0.9564\n",
            "Epoch 83/100\n",
            "109/109 [==============================] - 27s 243ms/step - loss: 0.0429 - accuracy: 0.9853 - val_loss: 0.1152 - val_accuracy: 0.9656\n",
            "Epoch 84/100\n",
            "109/109 [==============================] - 27s 245ms/step - loss: 0.0361 - accuracy: 0.9915 - val_loss: 0.1338 - val_accuracy: 0.9564\n",
            "Epoch 85/100\n",
            "109/109 [==============================] - 27s 245ms/step - loss: 0.0418 - accuracy: 0.9877 - val_loss: 0.1253 - val_accuracy: 0.9552\n",
            "Epoch 86/100\n",
            "109/109 [==============================] - 27s 245ms/step - loss: 0.0340 - accuracy: 0.9900 - val_loss: 0.1116 - val_accuracy: 0.9621\n",
            "Epoch 87/100\n",
            "109/109 [==============================] - 27s 244ms/step - loss: 0.0229 - accuracy: 0.9945 - val_loss: 0.1146 - val_accuracy: 0.9667\n",
            "Epoch 88/100\n",
            "109/109 [==============================] - 27s 245ms/step - loss: 0.0311 - accuracy: 0.9915 - val_loss: 0.1212 - val_accuracy: 0.9598\n",
            "Epoch 89/100\n",
            "109/109 [==============================] - 28s 249ms/step - loss: 0.0275 - accuracy: 0.9933 - val_loss: 0.1200 - val_accuracy: 0.9633\n",
            "Epoch 90/100\n",
            "109/109 [==============================] - 27s 247ms/step - loss: 0.0301 - accuracy: 0.9904 - val_loss: 0.1236 - val_accuracy: 0.9598\n",
            "Epoch 91/100\n",
            "109/109 [==============================] - 28s 249ms/step - loss: 0.0392 - accuracy: 0.9891 - val_loss: 0.1322 - val_accuracy: 0.9610\n",
            "Epoch 92/100\n",
            "109/109 [==============================] - 28s 248ms/step - loss: 0.0343 - accuracy: 0.9894 - val_loss: 0.1181 - val_accuracy: 0.9644\n",
            "Epoch 93/100\n",
            "109/109 [==============================] - 28s 249ms/step - loss: 0.0319 - accuracy: 0.9913 - val_loss: 0.1279 - val_accuracy: 0.9610\n",
            "Epoch 94/100\n",
            "109/109 [==============================] - 28s 248ms/step - loss: 0.0210 - accuracy: 0.9947 - val_loss: 0.1222 - val_accuracy: 0.9633\n",
            "Epoch 95/100\n",
            "109/109 [==============================] - 28s 249ms/step - loss: 0.0325 - accuracy: 0.9926 - val_loss: 0.1463 - val_accuracy: 0.9552\n",
            "Epoch 96/100\n",
            "109/109 [==============================] - 27s 246ms/step - loss: 0.0190 - accuracy: 0.9944 - val_loss: 0.1219 - val_accuracy: 0.9587\n",
            "Epoch 97/100\n",
            "109/109 [==============================] - 27s 246ms/step - loss: 0.0231 - accuracy: 0.9922 - val_loss: 0.1048 - val_accuracy: 0.9644\n",
            "Epoch 98/100\n",
            "109/109 [==============================] - 27s 246ms/step - loss: 0.0262 - accuracy: 0.9908 - val_loss: 0.1184 - val_accuracy: 0.9575\n",
            "Epoch 99/100\n",
            "109/109 [==============================] - 27s 246ms/step - loss: 0.0252 - accuracy: 0.9938 - val_loss: 0.1092 - val_accuracy: 0.9644\n",
            "Epoch 100/100\n",
            "109/109 [==============================] - 28s 250ms/step - loss: 0.0191 - accuracy: 0.9945 - val_loss: 0.1281 - val_accuracy: 0.9575\n"
          ],
          "name": "stdout"
        },
        {
          "output_type": "execute_result",
          "data": {
            "text/plain": [
              "<tensorflow.python.keras.callbacks.History at 0x7f2bf02018d0>"
            ]
          },
          "metadata": {
            "tags": []
          },
          "execution_count": 9
        }
      ]
    },
    {
      "cell_type": "code",
      "metadata": {
        "colab": {
          "base_uri": "https://localhost:8080/"
        },
        "id": "LKaT9G34JAeV",
        "outputId": "86491b54-e02b-4860-e634-6efb578256f3"
      },
      "source": [
        "img = keras.preprocessing.image.load_img(\r\n",
        "    \"duy.jpg\", target_size=image_size\r\n",
        ")\r\n",
        "img_array = keras.preprocessing.image.img_to_array(img)\r\n",
        "img_array = tf.expand_dims(img_array, 0)  # Create batch axis\r\n",
        "\r\n",
        "predictions = model.predict(img_array)\r\n",
        "\r\n",
        "for x in range(len(predictions)): \r\n",
        "    print(predictions[x])\r\n"
      ],
      "execution_count": 12,
      "outputs": [
        {
          "output_type": "stream",
          "text": [
            "[9.99995828e-01 3.75600395e-09 3.22312281e-11 2.53563348e-09\n",
            " 1.60574332e-11 7.40789707e-10 8.17396986e-13 9.47865786e-10\n",
            " 3.34070864e-06 1.27508166e-13 2.23523075e-10 3.59869858e-08\n",
            " 1.64973868e-09 3.79614265e-12 4.58870443e-14 2.76138418e-10\n",
            " 5.26000299e-10 3.52080322e-12 1.69302777e-13 3.36339379e-09\n",
            " 1.57396940e-09 1.36297935e-11 2.49630438e-12 3.96592164e-08\n",
            " 6.44342761e-13 3.26657590e-11 1.45059978e-10 1.52035251e-09\n",
            " 3.24564041e-07 1.05275143e-10 1.57854372e-11 1.93023396e-07\n",
            " 8.28837265e-09 1.63759122e-08 2.82837078e-08 1.59930169e-09\n",
            " 2.79012852e-07 6.99226788e-11]\n"
          ],
          "name": "stdout"
        }
      ]
    },
    {
      "cell_type": "code",
      "metadata": {
        "colab": {
          "base_uri": "https://localhost:8080/"
        },
        "id": "TJT8yp4SMhRY",
        "outputId": "94d3a20b-796d-483d-f9ae-789fcb4eef89"
      },
      "source": [
        "img = keras.preprocessing.image.load_img(\r\n",
        "    \"my.jpg\", target_size=image_size\r\n",
        ")\r\n",
        "img_array = keras.preprocessing.image.img_to_array(img)\r\n",
        "img_array = tf.expand_dims(img_array, 0)  # Create batch axis\r\n",
        "\r\n",
        "predictions = model.predict(img_array)\r\n",
        "\r\n",
        "for x in range(len(predictions)): \r\n",
        "    print(predictions[x])"
      ],
      "execution_count": 13,
      "outputs": [
        {
          "output_type": "stream",
          "text": [
            "[3.94196121e-07 1.31380906e-08 3.47067952e-09 9.99790967e-01\n",
            " 2.08143769e-09 6.28808960e-09 1.07594954e-10 3.88774986e-08\n",
            " 2.21713231e-06 7.15934881e-11 1.48090290e-10 3.66814277e-07\n",
            " 1.92268135e-09 8.31461833e-09 1.37396626e-12 6.12517624e-07\n",
            " 2.98648530e-07 1.55606347e-06 3.59706043e-09 2.10847002e-08\n",
            " 5.89490483e-08 1.49903556e-08 1.42613653e-05 1.61342599e-04\n",
            " 2.44432061e-11 7.64846845e-06 4.64932803e-08 1.18769364e-07\n",
            " 4.93418746e-08 9.00454597e-06 5.58577398e-08 2.37166931e-09\n",
            " 6.43163887e-08 1.15691523e-06 7.61120987e-07 8.04589945e-06\n",
            " 3.52692853e-09 7.25653308e-07]\n"
          ],
          "name": "stdout"
        }
      ]
    },
    {
      "cell_type": "code",
      "metadata": {
        "colab": {
          "base_uri": "https://localhost:8080/"
        },
        "id": "dNZVUkpRMvWm",
        "outputId": "b5e4d236-b5fd-4df1-89c3-ef50fb59ee31"
      },
      "source": [
        "img = keras.preprocessing.image.load_img(\r\n",
        "    \"duong.jpg\", target_size=image_size\r\n",
        ")\r\n",
        "img_array = keras.preprocessing.image.img_to_array(img)\r\n",
        "img_array = tf.expand_dims(img_array, 0)  # Create batch axis\r\n",
        "\r\n",
        "predictions = model.predict(img_array)\r\n",
        "\r\n",
        "for x in range(len(predictions)): \r\n",
        "    print(predictions[x])"
      ],
      "execution_count": 14,
      "outputs": [
        {
          "output_type": "stream",
          "text": [
            "[3.2886049e-16 3.1848836e-17 3.3870686e-19 1.7644279e-20 1.0000000e+00\n",
            " 3.9387664e-17 1.4947989e-17 7.6496426e-14 5.4376563e-22 1.1401014e-18\n",
            " 6.3367726e-17 5.5095596e-17 2.0834491e-21 1.7887017e-14 2.0830869e-18\n",
            " 4.9845407e-17 9.6832034e-16 2.5925832e-17 5.7913898e-19 9.6150250e-18\n",
            " 9.2336956e-13 3.4246776e-21 4.8062151e-19 9.7578702e-19 8.2659080e-17\n",
            " 1.3608729e-19 2.1780165e-17 3.8413826e-16 1.0152059e-14 2.3397133e-16\n",
            " 4.8559545e-19 3.9378821e-16 6.2881105e-16 3.1543537e-17 7.9109138e-18\n",
            " 1.5756576e-17 2.3517441e-20 2.1708166e-17]\n"
          ],
          "name": "stdout"
        }
      ]
    },
    {
      "cell_type": "code",
      "metadata": {
        "colab": {
          "base_uri": "https://localhost:8080/"
        },
        "id": "0s3KWto6NFwA",
        "outputId": "dd4dd8f1-a792-4c09-b68a-95793fce5059"
      },
      "source": [
        "img = keras.preprocessing.image.load_img(\r\n",
        "    \"hung.jpg\", target_size=image_size\r\n",
        ")\r\n",
        "img_array = keras.preprocessing.image.img_to_array(img)\r\n",
        "img_array = tf.expand_dims(img_array, 0)  # Create batch axis\r\n",
        "\r\n",
        "predictions = model.predict(img_array)\r\n",
        "\r\n",
        "for x in range(len(predictions)): \r\n",
        "    print(predictions[x])"
      ],
      "execution_count": 15,
      "outputs": [
        {
          "output_type": "stream",
          "text": [
            "[2.0893437e-12 2.8779168e-09 3.0372849e-10 1.0732280e-07 1.4874214e-09\n",
            " 1.1473980e-11 1.6640720e-11 4.6098672e-09 8.0306535e-13 4.6282863e-14\n",
            " 3.2296805e-09 1.2243739e-09 6.5302733e-12 2.4792683e-09 9.5901184e-13\n",
            " 1.5137025e-10 1.3036382e-12 2.0621287e-12 8.0053061e-11 2.5111898e-08\n",
            " 3.3264516e-07 1.3907800e-10 1.5093672e-09 6.5660821e-08 8.2056757e-14\n",
            " 4.5481834e-06 3.1415047e-07 9.1121636e-14 1.0843174e-09 5.9670505e-11\n",
            " 7.3954724e-14 4.2462472e-10 2.1371509e-11 4.0094628e-13 7.1702397e-07\n",
            " 8.9623371e-11 2.0362732e-13 9.9999392e-01]\n"
          ],
          "name": "stdout"
        }
      ]
    },
    {
      "cell_type": "code",
      "metadata": {
        "colab": {
          "base_uri": "https://localhost:8080/"
        },
        "id": "L3sFePhgNcqn",
        "outputId": "8c6f8550-e60e-4030-ff0c-04fd1877cbd6"
      },
      "source": [
        "img = keras.preprocessing.image.load_img(\r\n",
        "    \"thinh.jpg\", target_size=image_size\r\n",
        ")\r\n",
        "img_array = keras.preprocessing.image.img_to_array(img)\r\n",
        "img_array = tf.expand_dims(img_array, 0)  # Create batch axis\r\n",
        "\r\n",
        "predictions = model.predict(img_array)\r\n",
        "\r\n",
        "for x in range(len(predictions)): \r\n",
        "    print(predictions[x])"
      ],
      "execution_count": 16,
      "outputs": [
        {
          "output_type": "stream",
          "text": [
            "[3.91075085e-13 2.62005976e-14 2.70685493e-15 2.64765326e-15\n",
            " 2.90379244e-12 1.20702784e-18 3.28532544e-18 1.59887260e-14\n",
            " 2.06723981e-15 1.07668380e-15 7.17475531e-15 9.51418323e-15\n",
            " 2.29786528e-15 1.02925836e-14 2.84859213e-14 2.72914633e-08\n",
            " 9.64968994e-09 4.82567503e-15 7.34379881e-17 1.15844053e-11\n",
            " 1.38212085e-14 1.13534402e-17 1.44112492e-15 6.01378517e-16\n",
            " 2.86888128e-14 1.47707326e-16 1.47472722e-14 1.35403742e-17\n",
            " 3.25874771e-13 1.16136690e-12 3.88541629e-11 3.23280985e-12\n",
            " 1.08304482e-06 5.79893663e-14 4.11655065e-14 6.50019542e-16\n",
            " 9.99998927e-01 1.14100136e-17]\n"
          ],
          "name": "stdout"
        }
      ]
    },
    {
      "cell_type": "code",
      "metadata": {
        "colab": {
          "base_uri": "https://localhost:8080/"
        },
        "id": "9qNmEcwCN3On",
        "outputId": "338804bb-c0d5-4c4b-b5c0-a0f1d230fc1d"
      },
      "source": [
        "img = keras.preprocessing.image.load_img(\r\n",
        "    \"thinh1.jpg\", target_size=image_size\r\n",
        ")\r\n",
        "img_array = keras.preprocessing.image.img_to_array(img)\r\n",
        "img_array = tf.expand_dims(img_array, 0)  # Create batch axis\r\n",
        "\r\n",
        "predictions = model.predict(img_array)\r\n",
        "\r\n",
        "for x in range(len(predictions)): \r\n",
        "    print(predictions[x])"
      ],
      "execution_count": 17,
      "outputs": [
        {
          "output_type": "stream",
          "text": [
            "[1.27084480e-04 5.90847503e-06 4.49258465e-07 7.18874105e-07\n",
            " 6.60969019e-01 1.24570164e-07 1.49691425e-06 2.91577635e-07\n",
            " 4.78482187e-09 5.74827391e-05 1.02049971e-05 2.23889565e-05\n",
            " 6.66357846e-06 1.96812898e-01 7.44584613e-05 9.58579039e-05\n",
            " 5.51649828e-06 1.52599730e-03 1.37407341e-07 4.05064435e-04\n",
            " 7.40416654e-05 3.02085624e-07 1.23809878e-04 1.30097376e-07\n",
            " 9.74517825e-05 7.94632893e-09 9.67528990e-07 5.94190788e-05\n",
            " 1.30304411e-01 3.12189659e-04 5.02998319e-07 1.05449915e-04\n",
            " 6.35058060e-03 9.64993960e-05 2.28970335e-03 4.49321487e-05\n",
            " 1.64587309e-05 1.34444213e-06]\n"
          ],
          "name": "stdout"
        }
      ]
    }
  ]
}